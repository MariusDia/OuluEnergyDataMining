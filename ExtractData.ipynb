{
 "cells": [
  {
   "cell_type": "code",
   "execution_count": 70,
   "id": "e196a548",
   "metadata": {},
   "outputs": [],
   "source": [
    "import csv\n",
    "import pandas as pd\n",
    "import matplotlib.pyplot as plt\n",
    "import seaborn as sns\n",
    "\n",
    "from deep_translator import GoogleTranslator"
   ]
  },
  {
   "cell_type": "markdown",
   "id": "9ec71f9a",
   "metadata": {},
   "source": [
    "Retrieving data"
   ]
  },
  {
   "cell_type": "code",
   "execution_count": 245,
   "id": "a61f7d44",
   "metadata": {},
   "outputs": [],
   "source": [
    "hourly_url = \"https://api.ouka.fi/v1/properties_consumption_hourly\"\n",
    "def retrievePropertiesConsumptionByYear(ids, years):\n",
    "    \"\"\"\n",
    "    Return a dataframe containing the energy consumption of properties during a some years\n",
    "    \"\"\"\n",
    "    def my_query(args):\n",
    "        \"\"\"\n",
    "        Format a query using args: (id, year).\n",
    "        \"\"\"\n",
    "        query = (hourly_url\n",
    "                + \"?property_id=eq.\"\n",
    "                + str(args[0])\n",
    "                + \"&year=eq.\"\n",
    "                + str(args[1])\n",
    "                )\n",
    "        return query\n",
    "\n",
    "    q_args = product(ids, years)\n",
    "    # form a query per each id+year combination:\n",
    "    queries = [my_query(p) for p in q_args]\n",
    "    dfs = [pd.read_json(q) for q in queries] # fetch data for each query\n",
    "\n",
    "    return pd.concat(dfs)"
   ]
  },
  {
   "cell_type": "code",
   "execution_count": null,
   "id": "106562be",
   "metadata": {},
   "outputs": [],
   "source": [
    "ids = [657701]\n",
    "years = [2019]\n",
    "dfs_all = retrievePropertiesConsumptionByYear(ids, years)"
   ]
  },
  {
   "cell_type": "markdown",
   "id": "ddc1eea0",
   "metadata": {},
   "source": [
    "Time type preprocessing"
   ]
  },
  {
   "cell_type": "code",
   "execution_count": 248,
   "id": "2712a44c",
   "metadata": {},
   "outputs": [],
   "source": [
    "from datetime import datetime\n",
    "\n",
    "def replaceTime(df):\n",
    "    \"\"\"\n",
    "    replace the four columns of time (year, month, day and hour) by only one normalized column using datetime library\n",
    "    \"\"\"\n",
    "    \n",
    "    # Saving times\n",
    "    timeDf = df[[\"year\", \"month\", \"day\", \"starting_hour\"]].values.tolist()\n",
    "    \n",
    "    # COnverting to datetime type\n",
    "    new_time_list = [datetime(time[0], time[1], time[2], time[3]) for time in timeDf]\n",
    "    \n",
    "    # Deleting obsolete columns\n",
    "    df.drop(\"year\", axis=1, inplace=True)\n",
    "    df.drop(\"month\", axis=1, inplace=True)\n",
    "    df.drop(\"day\", axis=1, inplace=True)\n",
    "    df.drop(\"starting_hour\", axis=1, inplace=True)\n",
    "    \n",
    "    # Putting the new normalized column to the df\n",
    "    df[\"datetime\"]=new_time_list\n",
    "    df.sort_values(by=\"datetime\")\n",
    "    "
   ]
  },
  {
   "cell_type": "markdown",
   "id": "4ea7a05f",
   "metadata": {},
   "source": [
    "Selecting a observation time"
   ]
  },
  {
   "cell_type": "code",
   "execution_count": 285,
   "id": "1cb5daba",
   "metadata": {},
   "outputs": [],
   "source": [
    "def selectTimeObservation(df, start_date, end_date):\n",
    "    return df.loc[(df['datetime']>=start_time) & (df['datetime']<end_time)]"
   ]
  },
  {
   "cell_type": "markdown",
   "id": "26b05cf1",
   "metadata": {},
   "source": [
    "Overall retrieval function"
   ]
  },
  {
   "cell_type": "code",
   "execution_count": 287,
   "id": "a6d5d194",
   "metadata": {},
   "outputs": [],
   "source": [
    "from dateutil.relativedelta import relativedelta\n",
    "\n",
    "def retrieveData(property_ids, start_date, end_date, energy_type):\n",
    "    \n",
    "    start_year = start_date.year\n",
    "    end_year = end_date.year\n",
    "    year_difference = end_year-start_year\n",
    "    \n",
    "    years = []\n",
    "    for y in range(year_difference+1):\n",
    "        years.append(start_year+y)\n",
    "    \n",
    "    \n",
    "    bas_df = retrievePropertiesConsumptionByYear(property_ids, years)\n",
    "    \n",
    "    replaceTime(bas_df)\n",
    "    \n",
    "    return selectTimeObservation(bas_df, start_date, end_date)"
   ]
  },
  {
   "cell_type": "code",
   "execution_count": 292,
   "id": "295ff6eb",
   "metadata": {},
   "outputs": [],
   "source": [
    "start_date = datetime(2019, 1, 1, 0)\n",
    "end_date = datetime(2019, 1, 2, 0)\n",
    "ids = [657701]\n",
    "\n",
    "final_df = retrieveData(ids, start_date, end_date, \"c\")"
   ]
  },
  {
   "cell_type": "code",
   "execution_count": 293,
   "id": "10f3f24e",
   "metadata": {},
   "outputs": [
    {
     "name": "stdout",
     "output_type": "stream",
     "text": [
      "<class 'pandas.core.frame.DataFrame'>\n",
      "Int64Index: 48 entries, 632 to 2115\n",
      "Data columns (total 7 columns):\n",
      " #   Column                Non-Null Count  Dtype         \n",
      "---  ------                --------------  -----         \n",
      " 0   property_id           48 non-null     int64         \n",
      " 1   property_internal_id  48 non-null     object        \n",
      " 2   property_name         48 non-null     object        \n",
      " 3   consumption_measure   48 non-null     object        \n",
      " 4   consumption           48 non-null     float64       \n",
      " 5   keyfield              48 non-null     int64         \n",
      " 6   datetime              48 non-null     datetime64[ns]\n",
      "dtypes: datetime64[ns](1), float64(1), int64(2), object(3)\n",
      "memory usage: 4.0+ KB\n"
     ]
    }
   ],
   "source": [
    "final_df.info()"
   ]
  },
  {
   "cell_type": "markdown",
   "id": "07239d43",
   "metadata": {},
   "source": [
    "Translation"
   ]
  },
  {
   "cell_type": "code",
   "execution_count": null,
   "id": "830cde9b",
   "metadata": {},
   "outputs": [],
   "source": []
  },
  {
   "cell_type": "code",
   "execution_count": null,
   "id": "1a54e30e",
   "metadata": {},
   "outputs": [],
   "source": []
  }
 ],
 "metadata": {
  "kernelspec": {
   "display_name": "Python 3",
   "language": "python",
   "name": "python3"
  },
  "language_info": {
   "codemirror_mode": {
    "name": "ipython",
    "version": 3
   },
   "file_extension": ".py",
   "mimetype": "text/x-python",
   "name": "python",
   "nbconvert_exporter": "python",
   "pygments_lexer": "ipython3",
   "version": "3.8.8"
  }
 },
 "nbformat": 4,
 "nbformat_minor": 5
}
